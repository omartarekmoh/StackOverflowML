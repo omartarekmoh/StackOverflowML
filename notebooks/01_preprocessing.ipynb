{
 "cells": [
  {
   "cell_type": "code",
   "execution_count": 1,
   "id": "dfea3014",
   "metadata": {},
   "outputs": [],
   "source": [
    "DATA_PATH = \"../data/raw/survey_results_public.csv\"\n",
    "EXPORT_PATH = \"../data/processed/1_preprocessed_df.pkl\"\n",
    "\n",
    "REPLACE_DICT = {\n",
    "    'YearsCodePro' : {\"Less than 1 year\" : 0, \"More than 50 years\" : 51},\n",
    "    'YearsCode' : {\"Less than 1 year\" : 0, \"More than 50 years\" : 51}\n",
    "}"
   ]
  },
  {
   "cell_type": "code",
   "execution_count": 2,
   "id": "6d002fc9",
   "metadata": {},
   "outputs": [],
   "source": [
    "import pandas as pd\n",
    "import numpy as np\n",
    "import logging\n",
    "import pickle"
   ]
  },
  {
   "cell_type": "markdown",
   "id": "c24c8d2b",
   "metadata": {},
   "source": [
    "# Functions"
   ]
  },
  {
   "cell_type": "markdown",
   "id": "efb96cba",
   "metadata": {},
   "source": [
    "## Split Answers"
   ]
  },
  {
   "cell_type": "code",
   "execution_count": 3,
   "id": "18a20ea3",
   "metadata": {},
   "outputs": [],
   "source": [
    "raw_df = pd.read_csv(DATA_PATH)\n",
    "ans_df = raw_df.copy()"
   ]
  },
  {
   "cell_type": "code",
   "execution_count": 4,
   "id": "7efb6cdb",
   "metadata": {},
   "outputs": [
    {
     "data": {
      "text/plain": [
       "0        [C++, HTML/CSS, JavaScript, Objective-C, PHP, ...\n",
       "1                                     [JavaScript, Python]\n",
       "2                           [Assembly, C, Python, R, Rust]\n",
       "3                                 [JavaScript, TypeScript]\n",
       "4                      [Bash/Shell, HTML/CSS, Python, SQL]\n",
       "                               ...                        \n",
       "83434                               [Clojure, Kotlin, SQL]\n",
       "83435                                                  NaN\n",
       "83436                               [Groovy, Java, Python]\n",
       "83437            [Bash/Shell, JavaScript, Node.js, Python]\n",
       "83438         [Delphi, Elixir, HTML/CSS, Java, JavaScript]\n",
       "Name: LanguageHaveWorkedWith, Length: 83439, dtype: object"
      ]
     },
     "execution_count": 4,
     "metadata": {},
     "output_type": "execute_result"
    }
   ],
   "source": [
    "# Split the answers\n",
    "ans_df[\"LanguageHaveWorkedWith\"][0]\n",
    "# check if col contains ;\n",
    "ans_df['LanguageHaveWorkedWith'].str.contains(';')\n",
    "# split the answer based on the ; and put it on list\n",
    "ans_df['LanguageHaveWorkedWith'].str.split(';')"
   ]
  },
  {
   "cell_type": "code",
   "execution_count": 5,
   "id": "448fdbe7",
   "metadata": {},
   "outputs": [],
   "source": [
    "def split_answers(data_series, delimiter=\";\"):\n",
    "    \"\"\"\n",
    "    Split multiple answers in a single string\n",
    "    to a list od single strings each contains single answers\n",
    "    \n",
    "    Parameters:\n",
    "    * data_series (pd.Series) : string series with answers\n",
    "    * delimiter (string) : string to split with default \";\"\n",
    "    \"\"\"\n",
    "    \n",
    "    def is_splittable(pd_series, delimiter):\n",
    "        return pd_series.str.contains(';')\n",
    "    \n",
    "    def split_answer(pd_series, delimiter):\n",
    "        return pd_series.str.split(delimiter)\n",
    "    \n",
    "    # Check if there any splittable answers if not return the data series\n",
    "    splittable_values = is_splittable(data_series, delimiter)\n",
    "    if not splittable_values.any():\n",
    "        return data_series\n",
    "    \n",
    "    # Split values to list\n",
    "    modified_series = split_answer(data_series, delimiter)\n",
    "    \n",
    "    # Replace NAs with empty lists\n",
    "    mask_null = modified_series.isnull()\n",
    "    modified_series.loc[mask_null] = modified_series.loc[mask_null].apply(lambda x: [])\n",
    "    \n",
    "    return modified_series"
   ]
  },
  {
   "cell_type": "code",
   "execution_count": 6,
   "id": "989ba4d0",
   "metadata": {},
   "outputs": [],
   "source": [
    "object_cols = ans_df.select_dtypes(include='object').columns.tolist()\n",
    "\n",
    "for col in object_cols:\n",
    "    ans_df[col] = split_answers(ans_df[col])"
   ]
  },
  {
   "cell_type": "markdown",
   "id": "8d700724",
   "metadata": {},
   "source": [
    "## Replace Answers"
   ]
  },
  {
   "cell_type": "code",
   "execution_count": 11,
   "id": "3cae5c7c",
   "metadata": {},
   "outputs": [],
   "source": [
    "for col, replacement in REPLACE_DICT.items():\n",
    "    ans_df[col] =  ans_df[col].replace(replacement).astype(np.float32)"
   ]
  },
  {
   "cell_type": "markdown",
   "id": "bcdbcf52",
   "metadata": {},
   "source": [
    "## Visually verify results"
   ]
  },
  {
   "cell_type": "code",
   "execution_count": 13,
   "id": "c3ddc4d3",
   "metadata": {
    "scrolled": true
   },
   "outputs": [
    {
     "data": {
      "text/plain": [
       "array([nan,  7., 17.,  3.,  4.,  6., 16., 12., 15., 10., 40.,  9., 26.,\n",
       "       14., 39., 20.,  8., 19.,  5.,  0., 22.,  2.,  1., 34., 21., 13.,\n",
       "       25., 24., 30., 31., 18., 38., 51., 27., 41., 42., 35., 23., 28.,\n",
       "       11., 37., 44., 43., 36., 33., 45., 29., 50., 46., 32., 47., 49.,\n",
       "       48.], dtype=float32)"
      ]
     },
     "execution_count": 13,
     "metadata": {},
     "output_type": "execute_result"
    }
   ],
   "source": [
    "ans_df[\"YearsCode\"].unique()"
   ]
  },
  {
   "cell_type": "code",
   "execution_count": 14,
   "id": "2fc959da",
   "metadata": {},
   "outputs": [
    {
     "data": {
      "text/plain": [
       "array([nan, 10.,  4.,  5.,  6.,  2., 30.,  9., 18., 12., 21.,  1., 16.,\n",
       "        0., 15.,  3., 35.,  7.,  8., 17., 14., 26., 25., 20., 50., 34.,\n",
       "       11., 24., 22., 13., 31., 23., 39., 41., 27., 28., 19., 33., 51.,\n",
       "       37., 29., 32., 43., 40., 38., 45., 42., 46., 36., 44., 47., 48.,\n",
       "       49.], dtype=float32)"
      ]
     },
     "execution_count": 14,
     "metadata": {},
     "output_type": "execute_result"
    }
   ],
   "source": [
    "ans_df[\"YearsCodePro\"].unique()"
   ]
  },
  {
   "cell_type": "code",
   "execution_count": 18,
   "id": "d072c3aa",
   "metadata": {},
   "outputs": [
    {
     "name": "stdout",
     "output_type": "stream",
     "text": [
      "C#;JavaScript;Perl;Rust;TypeScript\n",
      "['C#', 'JavaScript', 'Perl', 'Rust', 'TypeScript']\n"
     ]
    }
   ],
   "source": [
    "i = ans_df.sample(1).index[0]\n",
    "print(raw_df[\"LanguageHaveWorkedWith\"].iloc[i])\n",
    "print(ans_df[\"LanguageHaveWorkedWith\"].iloc[i])"
   ]
  },
  {
   "cell_type": "code",
   "execution_count": 19,
   "id": "24aa1029",
   "metadata": {},
   "outputs": [
    {
     "name": "stdout",
     "output_type": "stream",
     "text": [
      "Developer, QA or test\n",
      "['Developer, QA or test']\n"
     ]
    }
   ],
   "source": [
    "i = ans_df.sample(1).index[0]\n",
    "print(raw_df[\"DevType\"].iloc[i])\n",
    "print(ans_df[\"DevType\"].iloc[i])"
   ]
  },
  {
   "cell_type": "markdown",
   "id": "f47504be",
   "metadata": {},
   "source": [
    "## Export Data"
   ]
  },
  {
   "cell_type": "code",
   "execution_count": 20,
   "id": "ab97d3ce",
   "metadata": {},
   "outputs": [],
   "source": [
    "ans_df.to_pickle(EXPORT_PATH)"
   ]
  }
 ],
 "metadata": {
  "kernelspec": {
   "display_name": "Python 3 (ipykernel)",
   "language": "python",
   "name": "python3"
  },
  "language_info": {
   "codemirror_mode": {
    "name": "ipython",
    "version": 3
   },
   "file_extension": ".py",
   "mimetype": "text/x-python",
   "name": "python",
   "nbconvert_exporter": "python",
   "pygments_lexer": "ipython3",
   "version": "3.11.5"
  }
 },
 "nbformat": 4,
 "nbformat_minor": 5
}
